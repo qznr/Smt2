{
 "cells": [
  {
   "cell_type": "code",
   "execution_count": 3,
   "metadata": {},
   "outputs": [
    {
     "name": "stdout",
     "output_type": "stream",
     "text": [
      "[[2 3 5]\n",
      " [3 4 5]]\n"
     ]
    }
   ],
   "source": [
    "import numpy as np\n",
    "\n",
    "number_of_variables = int(input(\"Masukkan berapa jumlah variabel : \"))\n",
    "equation = []\n",
    "for i in range(number_of_variables):\n",
    "    equation.append(list(map(int,input(\"Masukkan koefisien dan konstanta\").split())))\n",
    "equation_system = np.array(equation)\n",
    "print(equation_system)"
   ]
  }
 ],
 "metadata": {
  "kernelspec": {
   "display_name": "Python 3",
   "language": "python",
   "name": "python3"
  },
  "language_info": {
   "codemirror_mode": {
    "name": "ipython",
    "version": 3
   },
   "file_extension": ".py",
   "mimetype": "text/x-python",
   "name": "python",
   "nbconvert_exporter": "python",
   "pygments_lexer": "ipython3",
   "version": "3.11.2"
  },
  "orig_nbformat": 4,
  "vscode": {
   "interpreter": {
    "hash": "a8e62e5e8c739e7e3404e334087d483c9ede2ae66b6bb2ca84bd9963b9568b2a"
   }
  }
 },
 "nbformat": 4,
 "nbformat_minor": 2
}
